{
  "cells": [
    {
      "cell_type": "code",
      "execution_count": null,
      "metadata": {
        "colab": {
          "base_uri": "https://localhost:8080/"
        },
        "id": "itB4qCymnG-p",
        "outputId": "f4fb82d2-3919-4ed9-bb28-07fd7bc24667"
      },
      "outputs": [
        {
          "name": "stdout",
          "output_type": "stream",
          "text": [
            "Epoch 1/50\n",
            "28/28 [==============================] - 1s 2ms/step - loss: 3.6134 - accuracy: 0.0673\n",
            "Epoch 2/50\n",
            "28/28 [==============================] - 0s 2ms/step - loss: 3.5440 - accuracy: 0.1300\n",
            "Epoch 3/50\n",
            "28/28 [==============================] - 0s 2ms/step - loss: 3.4391 - accuracy: 0.1513\n",
            "Epoch 4/50\n",
            "28/28 [==============================] - 0s 2ms/step - loss: 3.2908 - accuracy: 0.1648\n",
            "Epoch 5/50\n",
            "28/28 [==============================] - 0s 2ms/step - loss: 3.1057 - accuracy: 0.2410\n",
            "Epoch 6/50\n",
            "28/28 [==============================] - 0s 2ms/step - loss: 2.8876 - accuracy: 0.2892\n",
            "Epoch 7/50\n",
            "28/28 [==============================] - 0s 2ms/step - loss: 2.6582 - accuracy: 0.2926\n",
            "Epoch 8/50\n",
            "28/28 [==============================] - 0s 2ms/step - loss: 2.4440 - accuracy: 0.3004\n",
            "Epoch 9/50\n",
            "28/28 [==============================] - 0s 2ms/step - loss: 2.2574 - accuracy: 0.3139\n",
            "Epoch 10/50\n",
            "28/28 [==============================] - 0s 2ms/step - loss: 2.0944 - accuracy: 0.3475\n",
            "Epoch 11/50\n",
            "28/28 [==============================] - 0s 2ms/step - loss: 1.9458 - accuracy: 0.4036\n",
            "Epoch 12/50\n",
            "28/28 [==============================] - 0s 2ms/step - loss: 1.8055 - accuracy: 0.4529\n",
            "Epoch 13/50\n",
            "28/28 [==============================] - 0s 2ms/step - loss: 1.6695 - accuracy: 0.5034\n",
            "Epoch 14/50\n",
            "28/28 [==============================] - 0s 2ms/step - loss: 1.5408 - accuracy: 0.5303\n",
            "Epoch 15/50\n",
            "28/28 [==============================] - 0s 2ms/step - loss: 1.4155 - accuracy: 0.5561\n",
            "Epoch 16/50\n",
            "28/28 [==============================] - 0s 2ms/step - loss: 1.2929 - accuracy: 0.6446\n",
            "Epoch 17/50\n",
            "28/28 [==============================] - 0s 2ms/step - loss: 1.1752 - accuracy: 0.6794\n",
            "Epoch 18/50\n",
            "28/28 [==============================] - 0s 2ms/step - loss: 1.0622 - accuracy: 0.7332\n",
            "Epoch 19/50\n",
            "28/28 [==============================] - 0s 2ms/step - loss: 0.9526 - accuracy: 0.7668\n",
            "Epoch 20/50\n",
            "28/28 [==============================] - 0s 2ms/step - loss: 0.8504 - accuracy: 0.8173\n",
            "Epoch 21/50\n",
            "28/28 [==============================] - 0s 2ms/step - loss: 0.7530 - accuracy: 0.8330\n",
            "Epoch 22/50\n",
            "28/28 [==============================] - 0s 2ms/step - loss: 0.6627 - accuracy: 0.8643\n",
            "Epoch 23/50\n",
            "28/28 [==============================] - 0s 2ms/step - loss: 0.5825 - accuracy: 0.8935\n",
            "Epoch 24/50\n",
            "28/28 [==============================] - 0s 2ms/step - loss: 0.5110 - accuracy: 0.9182\n",
            "Epoch 25/50\n",
            "28/28 [==============================] - 0s 2ms/step - loss: 0.4470 - accuracy: 0.9417\n",
            "Epoch 26/50\n",
            "28/28 [==============================] - 0s 2ms/step - loss: 0.3916 - accuracy: 0.9484\n",
            "Epoch 27/50\n",
            "28/28 [==============================] - 0s 2ms/step - loss: 0.3440 - accuracy: 0.9596\n",
            "Epoch 28/50\n",
            "28/28 [==============================] - 0s 2ms/step - loss: 0.3021 - accuracy: 0.9608\n",
            "Epoch 29/50\n",
            "28/28 [==============================] - 0s 2ms/step - loss: 0.2665 - accuracy: 0.9641\n",
            "Epoch 30/50\n",
            "28/28 [==============================] - 0s 2ms/step - loss: 0.2357 - accuracy: 0.9630\n",
            "Epoch 31/50\n",
            "28/28 [==============================] - 0s 2ms/step - loss: 0.2070 - accuracy: 0.9675\n",
            "Epoch 32/50\n",
            "28/28 [==============================] - 0s 2ms/step - loss: 0.1836 - accuracy: 0.9686\n",
            "Epoch 33/50\n",
            "28/28 [==============================] - 0s 2ms/step - loss: 0.1623 - accuracy: 0.9686\n",
            "Epoch 34/50\n",
            "28/28 [==============================] - 0s 2ms/step - loss: 0.1431 - accuracy: 0.9686\n",
            "Epoch 35/50\n",
            "28/28 [==============================] - 0s 2ms/step - loss: 0.1261 - accuracy: 0.9709\n",
            "Epoch 36/50\n",
            "28/28 [==============================] - 0s 2ms/step - loss: 0.1094 - accuracy: 0.9798\n",
            "Epoch 37/50\n",
            "28/28 [==============================] - 0s 2ms/step - loss: 0.0962 - accuracy: 0.9798\n",
            "Epoch 38/50\n",
            "28/28 [==============================] - 0s 2ms/step - loss: 0.0853 - accuracy: 0.9798\n",
            "Epoch 39/50\n",
            "28/28 [==============================] - 0s 2ms/step - loss: 0.0758 - accuracy: 0.9798\n",
            "Epoch 40/50\n",
            "28/28 [==============================] - 0s 2ms/step - loss: 0.0675 - accuracy: 0.9798\n",
            "Epoch 41/50\n",
            "28/28 [==============================] - 0s 2ms/step - loss: 0.0600 - accuracy: 0.9832\n",
            "Epoch 42/50\n",
            "28/28 [==============================] - 0s 2ms/step - loss: 0.0535 - accuracy: 0.9877\n",
            "Epoch 43/50\n",
            "28/28 [==============================] - 0s 2ms/step - loss: 0.0476 - accuracy: 0.9910\n",
            "Epoch 44/50\n",
            "28/28 [==============================] - 0s 2ms/step - loss: 0.0424 - accuracy: 0.9944\n",
            "Epoch 45/50\n",
            "28/28 [==============================] - 0s 2ms/step - loss: 0.0369 - accuracy: 0.9955\n",
            "Epoch 46/50\n",
            "28/28 [==============================] - 0s 2ms/step - loss: 0.0324 - accuracy: 0.9955\n",
            "Epoch 47/50\n",
            "28/28 [==============================] - 0s 2ms/step - loss: 0.0282 - accuracy: 0.9955\n",
            "Epoch 48/50\n",
            "28/28 [==============================] - 0s 2ms/step - loss: 0.0240 - accuracy: 0.9955\n",
            "Epoch 49/50\n",
            "28/28 [==============================] - 0s 2ms/step - loss: 0.0205 - accuracy: 0.9955\n",
            "Epoch 50/50\n",
            "28/28 [==============================] - 0s 2ms/step - loss: 0.0176 - accuracy: 0.9955\n"
          ]
        },
        {
          "name": "stderr",
          "output_type": "stream",
          "text": [
            "WARNING:absl:Found untraced functions such as _update_step_xla while saving (showing 1 of 1). These functions will not be directly callable after loading.\n"
          ]
        }
      ],
      "source": [
        "# importing modules\n",
        "import pandas as pd\n",
        "from sklearn.feature_extraction.text import TfidfVectorizer\n",
        "from sklearn.preprocessing import LabelEncoder\n",
        "from tensorflow.keras import Sequential\n",
        "from tensorflow.keras.layers import Dense\n",
        "from tensorflow.keras.models import save_model\n",
        "\n",
        "\n",
        "# importing training data\n",
        "training_data = pd.read_csv(\"/content/training_data_EduBot_v2.txt\")\n",
        "\n",
        "# preprocessing training data\n",
        "training_data[\"patterns\"] = training_data[\"patterns\"].str.lower()\n",
        "vectorizer = TfidfVectorizer(ngram_range=(1, 2), stop_words=\"english\")\n",
        "training_data_tfidf = vectorizer.fit_transform(training_data[\"patterns\"]).toarray()\n",
        "\n",
        "# preprocessing target variable(tags)\n",
        "le = LabelEncoder()\n",
        "training_data_tags_le = pd.DataFrame({\"tags\": le.fit_transform(training_data[\"tags\"])})\n",
        "training_data_tags_dummy_encoded = pd.get_dummies(training_data_tags_le[\"tags\"]).to_numpy()\n",
        "\n",
        "# creating DNN\n",
        "edubot = Sequential()\n",
        "edubot.add(Dense(10, input_shape=(len(training_data_tfidf[0]),)))\n",
        "edubot.add(Dense(8))\n",
        "edubot.add(Dense(8))\n",
        "edubot.add(Dense(6))\n",
        "edubot.add(Dense(len(training_data_tags_dummy_encoded[0]), activation=\"softmax\"))\n",
        "edubot.compile(optimizer=\"rmsprop\", loss=\"categorical_crossentropy\", metrics=[\"accuracy\"])\n",
        "\n",
        "# fitting DNN\n",
        "edubot.fit(training_data_tfidf, training_data_tags_dummy_encoded, epochs=50, batch_size=32)\n",
        "\n",
        "# saving model file\n",
        "save_model(edubot, \"EduBot_v2\")\n",
        "\n"
      ]
    },
    {
      "cell_type": "code",
      "execution_count": null,
      "metadata": {
        "id": "VbHClz9apyNg"
      },
      "outputs": [],
      "source": [
        "# importing modules\n",
        "import pandas as pd\n",
        "from sklearn.feature_extraction.text import TfidfVectorizer\n",
        "from sklearn.preprocessing import LabelEncoder\n",
        "import numpy as np\n",
        "from tensorflow.keras.models import load_model\n",
        "import json\n",
        "import random\n",
        "#Let’s load data, model, and responses\n",
        "\n",
        "# importing training data\n",
        "training_data = pd.read_csv(\"/content/training_data_EduBot_v2.txt\")\n",
        "# loading model\n",
        "chatbot = load_model(\"EduBot_v2\")\n"
      ]
    },
    {
      "cell_type": "code",
      "execution_count": null,
      "metadata": {
        "id": "ISvuRQJzuhDp"
      },
      "outputs": [],
      "source": [
        "# loading responses\n",
        "responses = json.load(open(\"/content/responses (1).json\"))"
      ]
    },
    {
      "cell_type": "code",
      "source": [],
      "metadata": {
        "id": "kMnpZq1_WHr4"
      },
      "execution_count": null,
      "outputs": []
    },
    {
      "cell_type": "code",
      "execution_count": null,
      "metadata": {
        "colab": {
          "base_uri": "https://localhost:8080/",
          "height": 74
        },
        "id": "OOHO2wXrvbad",
        "outputId": "c37f4068-5cbe-4352-af6a-d9fbfbddef05"
      },
      "outputs": [
        {
          "data": {
            "text/html": [
              "<style>#sk-container-id-1 {color: black;background-color: white;}#sk-container-id-1 pre{padding: 0;}#sk-container-id-1 div.sk-toggleable {background-color: white;}#sk-container-id-1 label.sk-toggleable__label {cursor: pointer;display: block;width: 100%;margin-bottom: 0;padding: 0.3em;box-sizing: border-box;text-align: center;}#sk-container-id-1 label.sk-toggleable__label-arrow:before {content: \"▸\";float: left;margin-right: 0.25em;color: #696969;}#sk-container-id-1 label.sk-toggleable__label-arrow:hover:before {color: black;}#sk-container-id-1 div.sk-estimator:hover label.sk-toggleable__label-arrow:before {color: black;}#sk-container-id-1 div.sk-toggleable__content {max-height: 0;max-width: 0;overflow: hidden;text-align: left;background-color: #f0f8ff;}#sk-container-id-1 div.sk-toggleable__content pre {margin: 0.2em;color: black;border-radius: 0.25em;background-color: #f0f8ff;}#sk-container-id-1 input.sk-toggleable__control:checked~div.sk-toggleable__content {max-height: 200px;max-width: 100%;overflow: auto;}#sk-container-id-1 input.sk-toggleable__control:checked~label.sk-toggleable__label-arrow:before {content: \"▾\";}#sk-container-id-1 div.sk-estimator input.sk-toggleable__control:checked~label.sk-toggleable__label {background-color: #d4ebff;}#sk-container-id-1 div.sk-label input.sk-toggleable__control:checked~label.sk-toggleable__label {background-color: #d4ebff;}#sk-container-id-1 input.sk-hidden--visually {border: 0;clip: rect(1px 1px 1px 1px);clip: rect(1px, 1px, 1px, 1px);height: 1px;margin: -1px;overflow: hidden;padding: 0;position: absolute;width: 1px;}#sk-container-id-1 div.sk-estimator {font-family: monospace;background-color: #f0f8ff;border: 1px dotted black;border-radius: 0.25em;box-sizing: border-box;margin-bottom: 0.5em;}#sk-container-id-1 div.sk-estimator:hover {background-color: #d4ebff;}#sk-container-id-1 div.sk-parallel-item::after {content: \"\";width: 100%;border-bottom: 1px solid gray;flex-grow: 1;}#sk-container-id-1 div.sk-label:hover label.sk-toggleable__label {background-color: #d4ebff;}#sk-container-id-1 div.sk-serial::before {content: \"\";position: absolute;border-left: 1px solid gray;box-sizing: border-box;top: 0;bottom: 0;left: 50%;z-index: 0;}#sk-container-id-1 div.sk-serial {display: flex;flex-direction: column;align-items: center;background-color: white;padding-right: 0.2em;padding-left: 0.2em;position: relative;}#sk-container-id-1 div.sk-item {position: relative;z-index: 1;}#sk-container-id-1 div.sk-parallel {display: flex;align-items: stretch;justify-content: center;background-color: white;position: relative;}#sk-container-id-1 div.sk-item::before, #sk-container-id-1 div.sk-parallel-item::before {content: \"\";position: absolute;border-left: 1px solid gray;box-sizing: border-box;top: 0;bottom: 0;left: 50%;z-index: -1;}#sk-container-id-1 div.sk-parallel-item {display: flex;flex-direction: column;z-index: 1;position: relative;background-color: white;}#sk-container-id-1 div.sk-parallel-item:first-child::after {align-self: flex-end;width: 50%;}#sk-container-id-1 div.sk-parallel-item:last-child::after {align-self: flex-start;width: 50%;}#sk-container-id-1 div.sk-parallel-item:only-child::after {width: 0;}#sk-container-id-1 div.sk-dashed-wrapped {border: 1px dashed gray;margin: 0 0.4em 0.5em 0.4em;box-sizing: border-box;padding-bottom: 0.4em;background-color: white;}#sk-container-id-1 div.sk-label label {font-family: monospace;font-weight: bold;display: inline-block;line-height: 1.2em;}#sk-container-id-1 div.sk-label-container {text-align: center;}#sk-container-id-1 div.sk-container {/* jupyter's `normalize.less` sets `[hidden] { display: none; }` but bootstrap.min.css set `[hidden] { display: none !important; }` so we also need the `!important` here to be able to override the default hidden behavior on the sphinx rendered scikit-learn.org. See: https://github.com/scikit-learn/scikit-learn/issues/21755 */display: inline-block !important;position: relative;}#sk-container-id-1 div.sk-text-repr-fallback {display: none;}</style><div id=\"sk-container-id-1\" class=\"sk-top-container\"><div class=\"sk-text-repr-fallback\"><pre>TfidfVectorizer(ngram_range=(1, 2), stop_words=&#x27;english&#x27;)</pre><b>In a Jupyter environment, please rerun this cell to show the HTML representation or trust the notebook. <br />On GitHub, the HTML representation is unable to render, please try loading this page with nbviewer.org.</b></div><div class=\"sk-container\" hidden><div class=\"sk-item\"><div class=\"sk-estimator sk-toggleable\"><input class=\"sk-toggleable__control sk-hidden--visually\" id=\"sk-estimator-id-1\" type=\"checkbox\" checked><label for=\"sk-estimator-id-1\" class=\"sk-toggleable__label sk-toggleable__label-arrow\">TfidfVectorizer</label><div class=\"sk-toggleable__content\"><pre>TfidfVectorizer(ngram_range=(1, 2), stop_words=&#x27;english&#x27;)</pre></div></div></div></div></div>"
            ],
            "text/plain": [
              "TfidfVectorizer(ngram_range=(1, 2), stop_words='english')"
            ]
          },
          "execution_count": 4,
          "metadata": {},
          "output_type": "execute_result"
        }
      ],
      "source": [
        "# fitting TfIdfVectorizer with training data to preprocess inputs\n",
        "training_data[\"patterns\"] = training_data[\"patterns\"].str.lower()\n",
        "vectorizer = TfidfVectorizer(ngram_range=(1, 2), stop_words=\"english\")\n",
        "vectorizer.fit(training_data[\"patterns\"])"
      ]
    },
    {
      "cell_type": "code",
      "execution_count": null,
      "metadata": {
        "colab": {
          "base_uri": "https://localhost:8080/",
          "height": 74
        },
        "id": "zakpEt9Svhhl",
        "outputId": "bc9cd596-09d0-4d1b-ed35-e08406940ae4"
      },
      "outputs": [
        {
          "data": {
            "text/html": [
              "<style>#sk-container-id-2 {color: black;background-color: white;}#sk-container-id-2 pre{padding: 0;}#sk-container-id-2 div.sk-toggleable {background-color: white;}#sk-container-id-2 label.sk-toggleable__label {cursor: pointer;display: block;width: 100%;margin-bottom: 0;padding: 0.3em;box-sizing: border-box;text-align: center;}#sk-container-id-2 label.sk-toggleable__label-arrow:before {content: \"▸\";float: left;margin-right: 0.25em;color: #696969;}#sk-container-id-2 label.sk-toggleable__label-arrow:hover:before {color: black;}#sk-container-id-2 div.sk-estimator:hover label.sk-toggleable__label-arrow:before {color: black;}#sk-container-id-2 div.sk-toggleable__content {max-height: 0;max-width: 0;overflow: hidden;text-align: left;background-color: #f0f8ff;}#sk-container-id-2 div.sk-toggleable__content pre {margin: 0.2em;color: black;border-radius: 0.25em;background-color: #f0f8ff;}#sk-container-id-2 input.sk-toggleable__control:checked~div.sk-toggleable__content {max-height: 200px;max-width: 100%;overflow: auto;}#sk-container-id-2 input.sk-toggleable__control:checked~label.sk-toggleable__label-arrow:before {content: \"▾\";}#sk-container-id-2 div.sk-estimator input.sk-toggleable__control:checked~label.sk-toggleable__label {background-color: #d4ebff;}#sk-container-id-2 div.sk-label input.sk-toggleable__control:checked~label.sk-toggleable__label {background-color: #d4ebff;}#sk-container-id-2 input.sk-hidden--visually {border: 0;clip: rect(1px 1px 1px 1px);clip: rect(1px, 1px, 1px, 1px);height: 1px;margin: -1px;overflow: hidden;padding: 0;position: absolute;width: 1px;}#sk-container-id-2 div.sk-estimator {font-family: monospace;background-color: #f0f8ff;border: 1px dotted black;border-radius: 0.25em;box-sizing: border-box;margin-bottom: 0.5em;}#sk-container-id-2 div.sk-estimator:hover {background-color: #d4ebff;}#sk-container-id-2 div.sk-parallel-item::after {content: \"\";width: 100%;border-bottom: 1px solid gray;flex-grow: 1;}#sk-container-id-2 div.sk-label:hover label.sk-toggleable__label {background-color: #d4ebff;}#sk-container-id-2 div.sk-serial::before {content: \"\";position: absolute;border-left: 1px solid gray;box-sizing: border-box;top: 0;bottom: 0;left: 50%;z-index: 0;}#sk-container-id-2 div.sk-serial {display: flex;flex-direction: column;align-items: center;background-color: white;padding-right: 0.2em;padding-left: 0.2em;position: relative;}#sk-container-id-2 div.sk-item {position: relative;z-index: 1;}#sk-container-id-2 div.sk-parallel {display: flex;align-items: stretch;justify-content: center;background-color: white;position: relative;}#sk-container-id-2 div.sk-item::before, #sk-container-id-2 div.sk-parallel-item::before {content: \"\";position: absolute;border-left: 1px solid gray;box-sizing: border-box;top: 0;bottom: 0;left: 50%;z-index: -1;}#sk-container-id-2 div.sk-parallel-item {display: flex;flex-direction: column;z-index: 1;position: relative;background-color: white;}#sk-container-id-2 div.sk-parallel-item:first-child::after {align-self: flex-end;width: 50%;}#sk-container-id-2 div.sk-parallel-item:last-child::after {align-self: flex-start;width: 50%;}#sk-container-id-2 div.sk-parallel-item:only-child::after {width: 0;}#sk-container-id-2 div.sk-dashed-wrapped {border: 1px dashed gray;margin: 0 0.4em 0.5em 0.4em;box-sizing: border-box;padding-bottom: 0.4em;background-color: white;}#sk-container-id-2 div.sk-label label {font-family: monospace;font-weight: bold;display: inline-block;line-height: 1.2em;}#sk-container-id-2 div.sk-label-container {text-align: center;}#sk-container-id-2 div.sk-container {/* jupyter's `normalize.less` sets `[hidden] { display: none; }` but bootstrap.min.css set `[hidden] { display: none !important; }` so we also need the `!important` here to be able to override the default hidden behavior on the sphinx rendered scikit-learn.org. See: https://github.com/scikit-learn/scikit-learn/issues/21755 */display: inline-block !important;position: relative;}#sk-container-id-2 div.sk-text-repr-fallback {display: none;}</style><div id=\"sk-container-id-2\" class=\"sk-top-container\"><div class=\"sk-text-repr-fallback\"><pre>LabelEncoder()</pre><b>In a Jupyter environment, please rerun this cell to show the HTML representation or trust the notebook. <br />On GitHub, the HTML representation is unable to render, please try loading this page with nbviewer.org.</b></div><div class=\"sk-container\" hidden><div class=\"sk-item\"><div class=\"sk-estimator sk-toggleable\"><input class=\"sk-toggleable__control sk-hidden--visually\" id=\"sk-estimator-id-2\" type=\"checkbox\" checked><label for=\"sk-estimator-id-2\" class=\"sk-toggleable__label sk-toggleable__label-arrow\">LabelEncoder</label><div class=\"sk-toggleable__content\"><pre>LabelEncoder()</pre></div></div></div></div></div>"
            ],
            "text/plain": [
              "LabelEncoder()"
            ]
          },
          "execution_count": 5,
          "metadata": {},
          "output_type": "execute_result"
        }
      ],
      "source": [
        "# fitting LabelEncoder with target variable(tags) for inverse transformation of predictions\n",
        "le = LabelEncoder()\n",
        "le.fit(training_data[\"tags\"])"
      ]
    },
    {
      "cell_type": "code",
      "execution_count": null,
      "metadata": {
        "id": "ey139eQgvsID"
      },
      "outputs": [],
      "source": [
        "# transforming input and predicting intent\n",
        "def predict_tag(inp_str):\n",
        "    inp_data_tfidf = vectorizer.transform([inp_str.lower()]).toarray()\n",
        "    predicted_proba = edubot.predict(inp_data_tfidf)\n",
        "    encoded_label = [np.argmax(predicted_proba)]\n",
        "    predicted_tag = le.inverse_transform(encoded_label)[0]\n",
        "    return predicted_tag"
      ]
    },
    {
      "cell_type": "code",
      "execution_count": null,
      "metadata": {
        "colab": {
          "background_save": true,
          "base_uri": "https://localhost:8080/"
        },
        "id": "9Bi4TOPVv0fk",
        "outputId": "8cd22e01-0b57-4726-c042-f959f3ae0b45"
      },
      "outputs": [
        {
          "name": "stdout",
          "output_type": "stream",
          "text": [
            "---------------  AI Chat bot  ---------------\n",
            "Ask any queries...\n",
            "I will try to understand you and reply...\n",
            "Type EXIT to quit...\n",
            "1/1 [==============================] - 0s 97ms/step\n",
            "Response... :  Hi! I'm ready to answer all your questions.\n",
            "1/1 [==============================] - 0s 20ms/step\n",
            "Response... :  Admission to the B.Tech / 5-year Integrated M.Tech programs will be conducted under two streams.\n",
            "(1) Stream 1 (based on JEE(Main) 2021 scores and +2 Marks) for 70% of seats.\n",
            "(2) Stream 2 (based on +2 marks) for 30% of seats.\n",
            "Please visit https://www.sastra.edu/admissions.html for more info.\n"
          ]
        }
      ],
      "source": [
        "# defining chat function\n",
        "def start_chat():\n",
        "    print(\"---------------  AI Chat bot  ---------------\")\n",
        "    print(\"Ask any queries...\")\n",
        "    print(\"I will try to understand you and reply...\")\n",
        "    print(\"Type EXIT to quit...\")\n",
        "    while True:\n",
        "        inp = input(\"Ask anything... : \")\n",
        "        if inp == \"EXIT\":\n",
        "            break\n",
        "        else:\n",
        "            if inp:\n",
        "                tag = predict_tag(inp)\n",
        "                response = random.choice(responses[tag])\n",
        "                print(\"Response... : \", response)\n",
        "            else:\n",
        "                pass\n",
        "# calling chat function to start chatting\n",
        "start_chat()"
      ]
    }
  ],
  "metadata": {
    "colab": {
      "provenance": []
    },
    "kernelspec": {
      "display_name": "Python 3",
      "name": "python3"
    },
    "language_info": {
      "name": "python"
    }
  },
  "nbformat": 4,
  "nbformat_minor": 0
}